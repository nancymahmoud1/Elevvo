{
  "cells": [
    {
      "cell_type": "markdown",
      "metadata": {
        "id": "view-in-github",
        "colab_type": "text"
      },
      "source": [
        "<a href=\"https://colab.research.google.com/github/nancymahmoud1/Elevvo/blob/main/Movie_Recommendation_System.ipynb\" target=\"_parent\"><img src=\"https://colab.research.google.com/assets/colab-badge.svg\" alt=\"Open In Colab\"/></a>"
      ]
    },
    {
      "cell_type": "code",
      "execution_count": 1,
      "metadata": {
        "colab": {
          "base_uri": "https://localhost:8080/"
        },
        "id": "VW3_B-vEw8oO",
        "outputId": "238f17ae-9c05-45e1-d638-25f82868a125"
      },
      "outputs": [
        {
          "output_type": "stream",
          "name": "stdout",
          "text": [
            "Mounted at /content/drive\n"
          ]
        }
      ],
      "source": [
        "from google.colab import drive\n",
        "drive.mount('/content/drive')"
      ]
    },
    {
      "cell_type": "markdown",
      "source": [
        "# **Load and Merge Data**"
      ],
      "metadata": {
        "id": "x5vOLLOckN28"
      }
    },
    {
      "cell_type": "code",
      "execution_count": 2,
      "metadata": {
        "colab": {
          "base_uri": "https://localhost:8080/"
        },
        "id": "Qqs-ANv4pB1g",
        "outputId": "1e26a056-19b7-4787-b77c-62db82707c20"
      },
      "outputs": [
        {
          "output_type": "stream",
          "name": "stdout",
          "text": [
            "First 5 records:    userId  movieId  rating  timestamp                        title  \\\n",
            "0       1        1     4.0  964982703             Toy Story (1995)   \n",
            "1       1        3     4.0  964981247      Grumpier Old Men (1995)   \n",
            "2       1        6     4.0  964982224                  Heat (1995)   \n",
            "3       1       47     5.0  964983815  Seven (a.k.a. Se7en) (1995)   \n",
            "4       1       50     5.0  964982931   Usual Suspects, The (1995)   \n",
            "\n",
            "                                        genres  \n",
            "0  Adventure|Animation|Children|Comedy|Fantasy  \n",
            "1                               Comedy|Romance  \n",
            "2                        Action|Crime|Thriller  \n",
            "3                             Mystery|Thriller  \n",
            "4                       Crime|Mystery|Thriller  \n"
          ]
        }
      ],
      "source": [
        "import kagglehub\n",
        "import pandas as pd\n",
        "\n",
        "from kagglehub import KaggleDatasetAdapter\n",
        "\n",
        "# Set the path to the file you'd like to load\n",
        "movies_file_path = \"/content/drive/MyDrive/Elevvo/movies-recommendation-dataset/movies.csv\"\n",
        "movies = pd.read_csv(movies_file_path)\n",
        "\n",
        "ratings_file_path = \"/content/drive/MyDrive/Elevvo/movies-recommendation-dataset/ratings.csv\"\n",
        "ratings = pd.read_csv(ratings_file_path)\n",
        "\n",
        "# Merge movie titles into the ratings based on movieId\n",
        "df = pd.merge(ratings, movies, on='movieId')\n",
        "print(\"First 5 records:\", df.head())\n"
      ]
    },
    {
      "cell_type": "code",
      "execution_count": 3,
      "metadata": {
        "colab": {
          "base_uri": "https://localhost:8080/",
          "height": 209
        },
        "id": "BMZ2gj1ap2R4",
        "outputId": "d3a730f7-c616-40fb-cd55-9066cdf3be55"
      },
      "outputs": [
        {
          "output_type": "execute_result",
          "data": {
            "text/plain": [
              "userId       0\n",
              "movieId      0\n",
              "rating       0\n",
              "timestamp    0\n",
              "dtype: int64"
            ],
            "text/html": [
              "<div>\n",
              "<style scoped>\n",
              "    .dataframe tbody tr th:only-of-type {\n",
              "        vertical-align: middle;\n",
              "    }\n",
              "\n",
              "    .dataframe tbody tr th {\n",
              "        vertical-align: top;\n",
              "    }\n",
              "\n",
              "    .dataframe thead th {\n",
              "        text-align: right;\n",
              "    }\n",
              "</style>\n",
              "<table border=\"1\" class=\"dataframe\">\n",
              "  <thead>\n",
              "    <tr style=\"text-align: right;\">\n",
              "      <th></th>\n",
              "      <th>0</th>\n",
              "    </tr>\n",
              "  </thead>\n",
              "  <tbody>\n",
              "    <tr>\n",
              "      <th>userId</th>\n",
              "      <td>0</td>\n",
              "    </tr>\n",
              "    <tr>\n",
              "      <th>movieId</th>\n",
              "      <td>0</td>\n",
              "    </tr>\n",
              "    <tr>\n",
              "      <th>rating</th>\n",
              "      <td>0</td>\n",
              "    </tr>\n",
              "    <tr>\n",
              "      <th>timestamp</th>\n",
              "      <td>0</td>\n",
              "    </tr>\n",
              "  </tbody>\n",
              "</table>\n",
              "</div><br><label><b>dtype:</b> int64</label>"
            ]
          },
          "metadata": {},
          "execution_count": 3
        }
      ],
      "source": [
        "# Get the number of missing values in every column\n",
        "movies.isnull().sum()\n",
        "ratings.isnull().sum()"
      ]
    },
    {
      "cell_type": "code",
      "execution_count": 4,
      "metadata": {
        "id": "tea-A2BO4CRm"
      },
      "outputs": [],
      "source": [
        "# Split the Ratings into Train/Test per User\n",
        "from sklearn.model_selection import train_test_split\n",
        "\n",
        "# We train the model on 80% of each user’s ratings.\n",
        "# We test it on the 20% that we held out for the same users.\n",
        "def split_train_test(df, test_size=0.2):\n",
        "    train_list = []\n",
        "    test_list = []\n",
        "\n",
        "    for user_id, group in df.groupby('userId'):\n",
        "        if len(group) < 5:\n",
        "            train_list.append(group)\n",
        "            continue\n",
        "        train, test = train_test_split(group, test_size=test_size, random_state=42)\n",
        "        train_list.append(train)\n",
        "        test_list.append(test)\n",
        "\n",
        "    train_df = pd.concat(train_list)\n",
        "    test_df = pd.concat(test_list)\n",
        "    return train_df, test_df\n",
        "\n",
        "train_df, test_df = split_train_test(df)\n"
      ]
    },
    {
      "cell_type": "markdown",
      "source": [
        "# **Create User-Item Matrix**"
      ],
      "metadata": {
        "id": "LKvQ2CnLkAOl"
      }
    },
    {
      "cell_type": "code",
      "execution_count": 5,
      "metadata": {
        "id": "5mQfgOo-1KJq"
      },
      "outputs": [],
      "source": [
        "user_item_matrix = train_df.pivot_table(\n",
        "    index='userId',\n",
        "    columns='title',\n",
        "    values='rating').fillna(0)"
      ]
    },
    {
      "cell_type": "markdown",
      "source": [
        "# **Compute User Similarity (Cosine Similarity)**"
      ],
      "metadata": {
        "id": "gjXkv9kEkcR5"
      }
    },
    {
      "cell_type": "markdown",
      "source": [
        "Why Cosine Similarity?\n",
        "\n",
        "> It measures the angle between two rating vectors, not the difference in magnitude.\n",
        "\n",
        "> That’s great for recommendation systems because users might have different rating styles (e.g., one gives 5s and 4s, another gives 3s and 2s), but still like the same things.\n",
        "\n"
      ],
      "metadata": {
        "id": "mmHmNb_qpWPm"
      }
    },
    {
      "cell_type": "code",
      "execution_count": 6,
      "metadata": {
        "id": "hUkHPuj-1XmC"
      },
      "outputs": [],
      "source": [
        "from sklearn.metrics.pairwise import cosine_similarity\n",
        "\n",
        "# We find users who are similar to each other by comparing their ratings.\n",
        "# If two users rated many movies similarly, we consider them similar.\n",
        "user_similarity = cosine_similarity(user_item_matrix)\n",
        "user_sim_df = pd.DataFrame(\n",
        "    user_similarity, index=user_item_matrix.index, columns=user_item_matrix.index)\n"
      ]
    },
    {
      "cell_type": "markdown",
      "source": [
        "# **Implementation (Precision@K)**"
      ],
      "metadata": {
        "id": "8vrjM6IGlLSm"
      }
    },
    {
      "cell_type": "code",
      "execution_count": 7,
      "metadata": {
        "id": "Pcf6WpPj5fdr"
      },
      "outputs": [],
      "source": [
        "def get_top_k_recommendations(user_id, user_item_matrix, k=10):\n",
        "    similar_users = user_sim_df.loc[user_id].drop(user_id).sort_values(ascending=False).head(5)\n",
        "    weighted_sum = pd.Series(dtype=float)\n",
        "\n",
        "    for sim_user, score in similar_users.items():\n",
        "        weighted_sum = weighted_sum.add(user_item_matrix.loc[sim_user] * score, fill_value=0)\n",
        "\n",
        "    weighted_sum = weighted_sum / similar_users.sum()\n",
        "    already_seen = user_item_matrix.loc[user_id][user_item_matrix.loc[user_id] > 0].index\n",
        "    recommendations = weighted_sum.drop(labels=already_seen).sort_values(ascending=False).head(k)\n",
        "    return recommendations.index.tolist()\n"
      ]
    },
    {
      "cell_type": "code",
      "source": [
        "# Calculate Precision at K\n",
        "def precision_at_k(user_id, k=10):\n",
        "    recommended = get_top_k_recommendations(user_id, user_item_matrix, k)\n",
        "    actual = test_df[test_df['userId'] == user_id]['title'].tolist()\n",
        "\n",
        "    if not actual:\n",
        "        return None  # no test data for this user\n",
        "\n",
        "    relevant_and_recommended = set(recommended).intersection(set(actual))\n",
        "    return len(relevant_and_recommended) / k"
      ],
      "metadata": {
        "id": "F0JJ9mDtc1vg"
      },
      "execution_count": 8,
      "outputs": []
    },
    {
      "cell_type": "code",
      "source": [
        "# Evaluate on all users\n",
        "precisions = []\n",
        "for user_id in user_item_matrix.index:\n",
        "    p = precision_at_k(user_id, k=10)\n",
        "    if p is not None:\n",
        "        precisions.append(p)\n",
        "\n",
        "avg_precision_at_k = sum(precisions) / len(precisions)\n",
        "print(f\"Average Precision@10: {avg_precision_at_k:.4f}\")"
      ],
      "metadata": {
        "colab": {
          "base_uri": "https://localhost:8080/"
        },
        "id": "SEdCvN0zdBCm",
        "outputId": "66efd461-7591-4216-810f-df8381d3c5b6"
      },
      "execution_count": 9,
      "outputs": [
        {
          "output_type": "stream",
          "name": "stdout",
          "text": [
            "Average Precision@10: 0.2310\n"
          ]
        }
      ]
    },
    {
      "cell_type": "code",
      "execution_count": 10,
      "metadata": {
        "id": "7toJNZ3L2bZD"
      },
      "outputs": [],
      "source": [
        "# Function to get similar users\n",
        "def get_similar_users(user_id, top_n=5):\n",
        "    sim_scores = user_sim_df.loc[user_id].drop(user_id)\n",
        "    return sim_scores.sort_values(ascending=False).head(top_n)\n"
      ]
    },
    {
      "cell_type": "code",
      "execution_count": 11,
      "metadata": {
        "id": "WacGaqck2jcg"
      },
      "outputs": [],
      "source": [
        "# Recommend Unseen Movies Based on Similar Users\n",
        "def recommend_movies(user_id, top_n=10):\n",
        "    similar_users = get_similar_users(user_id)\n",
        "    weighted_sum = pd.Series(dtype=float)\n",
        "\n",
        "    for sim_user, score in similar_users.items():\n",
        "        user_ratings = user_item_matrix.loc[sim_user]\n",
        "        weighted_sum = weighted_sum.add(user_ratings * score, fill_value=0)\n",
        "\n",
        "    # Normalize\n",
        "    weighted_sum = weighted_sum / similar_users.sum()\n",
        "\n",
        "    # Filter out already watched movies\n",
        "    seen_movies = user_item_matrix.loc[user_id]\n",
        "    unseen = weighted_sum[seen_movies == 0]\n",
        "\n",
        "    return unseen.sort_values(ascending=False).head(top_n)\n"
      ]
    },
    {
      "cell_type": "code",
      "execution_count": 13,
      "metadata": {
        "colab": {
          "base_uri": "https://localhost:8080/",
          "height": 272
        },
        "id": "vl0lOsGZ3E2y",
        "outputId": "4f6fc93b-9c76-44f2-f9a3-b2fcaa87e20b"
      },
      "outputs": [
        {
          "output_type": "execute_result",
          "data": {
            "text/plain": [
              "title\n",
              "Aliens (1986)                                         4.404907\n",
              "Office Space (1999)                                   4.403742\n",
              "Austin Powers: International Man of Mystery (1997)    4.389126\n",
              "Terminator, The (1984)                                4.294020\n",
              "Jaws (1975)                                           3.985246\n",
              "dtype: float64"
            ],
            "text/html": [
              "<div>\n",
              "<style scoped>\n",
              "    .dataframe tbody tr th:only-of-type {\n",
              "        vertical-align: middle;\n",
              "    }\n",
              "\n",
              "    .dataframe tbody tr th {\n",
              "        vertical-align: top;\n",
              "    }\n",
              "\n",
              "    .dataframe thead th {\n",
              "        text-align: right;\n",
              "    }\n",
              "</style>\n",
              "<table border=\"1\" class=\"dataframe\">\n",
              "  <thead>\n",
              "    <tr style=\"text-align: right;\">\n",
              "      <th></th>\n",
              "      <th>0</th>\n",
              "    </tr>\n",
              "    <tr>\n",
              "      <th>title</th>\n",
              "      <th></th>\n",
              "    </tr>\n",
              "  </thead>\n",
              "  <tbody>\n",
              "    <tr>\n",
              "      <th>Aliens (1986)</th>\n",
              "      <td>4.404907</td>\n",
              "    </tr>\n",
              "    <tr>\n",
              "      <th>Office Space (1999)</th>\n",
              "      <td>4.403742</td>\n",
              "    </tr>\n",
              "    <tr>\n",
              "      <th>Austin Powers: International Man of Mystery (1997)</th>\n",
              "      <td>4.389126</td>\n",
              "    </tr>\n",
              "    <tr>\n",
              "      <th>Terminator, The (1984)</th>\n",
              "      <td>4.294020</td>\n",
              "    </tr>\n",
              "    <tr>\n",
              "      <th>Jaws (1975)</th>\n",
              "      <td>3.985246</td>\n",
              "    </tr>\n",
              "  </tbody>\n",
              "</table>\n",
              "</div><br><label><b>dtype:</b> float64</label>"
            ]
          },
          "metadata": {},
          "execution_count": 13
        }
      ],
      "source": [
        "recommend_movies(user_id=42, top_n=5)\n"
      ]
    },
    {
      "cell_type": "markdown",
      "source": [
        "The system is predicting user 42’s potential rating for a movie they haven’t seen, by looking at :\n",
        "- How similar users rated it\n",
        "- How similar those users are to user 42"
      ],
      "metadata": {
        "id": "EQ5JG-Yanfvu"
      }
    }
  ],
  "metadata": {
    "colab": {
      "provenance": [],
      "authorship_tag": "ABX9TyPogTOC7k88fkcPuDtTXHdE",
      "include_colab_link": true
    },
    "kernelspec": {
      "display_name": "Python 3",
      "name": "python3"
    },
    "language_info": {
      "name": "python"
    }
  },
  "nbformat": 4,
  "nbformat_minor": 0
}